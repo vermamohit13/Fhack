{
  "cells": [
    {
      "cell_type": "code",
      "execution_count": null,
      "metadata": {
        "colab": {
          "base_uri": "https://localhost:8080/"
        },
        "id": "LrUaTRw9MkJr",
        "outputId": "db311150-e979-4edd-83d9-169087f12d9c"
      },
      "outputs": [
        {
          "name": "stdout",
          "output_type": "stream",
          "text": [
            "Mounted at /content/drive\n"
          ]
        }
      ],
      "source": [
        "from google.colab import drive\n",
        "drive.mount('/content/drive')"
      ]
    },
    {
      "cell_type": "code",
      "execution_count": null,
      "metadata": {
        "colab": {
          "base_uri": "https://localhost:8080/"
        },
        "id": "alg6g_fBASna",
        "outputId": "cf803a44-e79a-4d93-e6cc-2919cf16c4da"
      },
      "outputs": [
        {
          "name": "stdout",
          "output_type": "stream",
          "text": [
            "Requirement already satisfied: librosa in /usr/local/lib/python3.7/dist-packages (0.8.1)\n",
            "Requirement already satisfied: soundfile in /usr/local/lib/python3.7/dist-packages (0.10.3.post1)\n",
            "Requirement already satisfied: numpy in /usr/local/lib/python3.7/dist-packages (1.21.6)\n",
            "Requirement already satisfied: sklearn in /usr/local/lib/python3.7/dist-packages (0.0)\n",
            "Collecting pyaudio\n",
            "  Downloading PyAudio-0.2.11.tar.gz (37 kB)\n",
            "Requirement already satisfied: resampy>=0.2.2 in /usr/local/lib/python3.7/dist-packages (from librosa) (0.2.2)\n",
            "Requirement already satisfied: decorator>=3.0.0 in /usr/local/lib/python3.7/dist-packages (from librosa) (4.4.2)\n",
            "Requirement already satisfied: audioread>=2.0.0 in /usr/local/lib/python3.7/dist-packages (from librosa) (2.1.9)\n",
            "Requirement already satisfied: packaging>=20.0 in /usr/local/lib/python3.7/dist-packages (from librosa) (21.3)\n",
            "Requirement already satisfied: scikit-learn!=0.19.0,>=0.14.0 in /usr/local/lib/python3.7/dist-packages (from librosa) (1.0.2)\n",
            "Requirement already satisfied: scipy>=1.0.0 in /usr/local/lib/python3.7/dist-packages (from librosa) (1.4.1)\n",
            "Requirement already satisfied: joblib>=0.14 in /usr/local/lib/python3.7/dist-packages (from librosa) (1.1.0)\n",
            "Requirement already satisfied: numba>=0.43.0 in /usr/local/lib/python3.7/dist-packages (from librosa) (0.51.2)\n",
            "Requirement already satisfied: pooch>=1.0 in /usr/local/lib/python3.7/dist-packages (from librosa) (1.6.0)\n",
            "Requirement already satisfied: cffi>=1.0 in /usr/local/lib/python3.7/dist-packages (from soundfile) (1.15.0)\n",
            "Requirement already satisfied: pycparser in /usr/local/lib/python3.7/dist-packages (from cffi>=1.0->soundfile) (2.21)\n",
            "Requirement already satisfied: llvmlite<0.35,>=0.34.0.dev0 in /usr/local/lib/python3.7/dist-packages (from numba>=0.43.0->librosa) (0.34.0)\n",
            "Requirement already satisfied: setuptools in /usr/local/lib/python3.7/dist-packages (from numba>=0.43.0->librosa) (57.4.0)\n",
            "Requirement already satisfied: pyparsing!=3.0.5,>=2.0.2 in /usr/local/lib/python3.7/dist-packages (from packaging>=20.0->librosa) (3.0.9)\n",
            "Requirement already satisfied: appdirs>=1.3.0 in /usr/local/lib/python3.7/dist-packages (from pooch>=1.0->librosa) (1.4.4)\n",
            "Requirement already satisfied: requests>=2.19.0 in /usr/local/lib/python3.7/dist-packages (from pooch>=1.0->librosa) (2.23.0)\n",
            "Requirement already satisfied: chardet<4,>=3.0.2 in /usr/local/lib/python3.7/dist-packages (from requests>=2.19.0->pooch>=1.0->librosa) (3.0.4)\n",
            "Requirement already satisfied: certifi>=2017.4.17 in /usr/local/lib/python3.7/dist-packages (from requests>=2.19.0->pooch>=1.0->librosa) (2021.10.8)\n",
            "Requirement already satisfied: idna<3,>=2.5 in /usr/local/lib/python3.7/dist-packages (from requests>=2.19.0->pooch>=1.0->librosa) (2.10)\n",
            "Requirement already satisfied: urllib3!=1.25.0,!=1.25.1,<1.26,>=1.21.1 in /usr/local/lib/python3.7/dist-packages (from requests>=2.19.0->pooch>=1.0->librosa) (1.24.3)\n",
            "Requirement already satisfied: six>=1.3 in /usr/local/lib/python3.7/dist-packages (from resampy>=0.2.2->librosa) (1.15.0)\n",
            "Requirement already satisfied: threadpoolctl>=2.0.0 in /usr/local/lib/python3.7/dist-packages (from scikit-learn!=0.19.0,>=0.14.0->librosa) (3.1.0)\n",
            "Building wheels for collected packages: pyaudio\n",
            "  Building wheel for pyaudio (setup.py) ... \u001b[?25lerror\n",
            "\u001b[31m  ERROR: Failed building wheel for pyaudio\u001b[0m\n",
            "\u001b[?25h  Running setup.py clean for pyaudio\n",
            "Failed to build pyaudio\n",
            "Installing collected packages: pyaudio\n",
            "    Running setup.py install for pyaudio ... \u001b[?25l\u001b[?25herror\n",
            "\u001b[31mERROR: Command errored out with exit status 1: /usr/bin/python3 -u -c 'import io, os, sys, setuptools, tokenize; sys.argv[0] = '\"'\"'/tmp/pip-install-xaqtf9qn/pyaudio_75344c9f51ef4674a1ae22181fedf18a/setup.py'\"'\"'; __file__='\"'\"'/tmp/pip-install-xaqtf9qn/pyaudio_75344c9f51ef4674a1ae22181fedf18a/setup.py'\"'\"';f = getattr(tokenize, '\"'\"'open'\"'\"', open)(__file__) if os.path.exists(__file__) else io.StringIO('\"'\"'from setuptools import setup; setup()'\"'\"');code = f.read().replace('\"'\"'\\r\\n'\"'\"', '\"'\"'\\n'\"'\"');f.close();exec(compile(code, __file__, '\"'\"'exec'\"'\"'))' install --record /tmp/pip-record-66n3j0c8/install-record.txt --single-version-externally-managed --compile --install-headers /usr/local/include/python3.7/pyaudio Check the logs for full command output.\u001b[0m\n"
          ]
        }
      ],
      "source": [
        "pip install librosa soundfile numpy sklearn pyaudio"
      ]
    },
    {
      "cell_type": "code",
      "execution_count": null,
      "metadata": {
        "id": "aaV5tBAp7Ev_"
      },
      "outputs": [],
      "source": [
        "import librosa\n",
        "import soundfile\n",
        "import os, glob, pickle\n",
        "import numpy as np\n",
        "from sklearn.model_selection import train_test_split\n",
        "from sklearn.neural_network import MLPClassifier\n",
        "from sklearn.metrics import accuracy_score"
      ]
    },
    {
      "cell_type": "code",
      "execution_count": null,
      "metadata": {
        "id": "_FeQuq6t7K2Q"
      },
      "outputs": [],
      "source": [
        "def extract_feature(file_name, mfcc, chroma, mel):\n",
        "  with soundfile.SoundFile(file_name) as sound_file:\n",
        "    X = sound_file.read(dtype=\"float32\")\n",
        "    sample_rate=sound_file.samplerate\n",
        "    if chroma:\n",
        "      stft=np.abs(librosa.stft(X))\n",
        "      result=np.array([])\n",
        "    if mfcc:\n",
        "      mfccs=np.mean(librosa.feature.mfcc(y=X, sr=sample_rate, n_mfcc=40).T, axis=0)\n",
        "      result=np.hstack((result, mfccs))\n",
        "    if chroma:\n",
        "      chroma=np.mean(librosa.feature.chroma_stft(S=stft, sr=sample_rate).T,axis=0)\n",
        "      result=np.hstack((result, chroma))\n",
        "    if mel:\n",
        "      mel=np.mean(librosa.feature.melspectrogram(X, sr=sample_rate).T,axis=0)\n",
        "      result=np.hstack((result, mel))\n",
        "  return result"
      ]
    },
    {
      "cell_type": "code",
      "execution_count": null,
      "metadata": {
        "id": "UKfs7lV47y0B"
      },
      "outputs": [],
      "source": [
        "#DataFlair - Emotions in the RAVDESS dataset\n",
        "emotions={\n",
        "  '01':'neutral',\n",
        "  '02':'calm',\n",
        "  '03':'happy',\n",
        "  '04':'sad',\n",
        "  '05':'angry',\n",
        "  '06':'fearful',\n",
        "  '07':'disgust',\n",
        "  '08':'surprised'\n",
        "}\n",
        "\n",
        "#Emotions to observe\n",
        "observed_emotions=['sad', 'happy','neutral','angry']"
      ]
    },
    {
      "cell_type": "code",
      "execution_count": null,
      "metadata": {
        "id": "fKjFa9Tp71OO"
      },
      "outputs": [],
      "source": [
        "import os\n",
        "output_file_path = \"drive/MyDrive/FrostHack/data\"\n",
        "files = os.listdir(output_file_path)\n",
        "def load_data(test_size=0.2):\n",
        "  x,y=[],[]\n",
        "  for file in files:\n",
        "    if(file!=\"x_train.npy\" and file!=\"y_train.npy\" and file!=\"x_test.npy\" and file!=\"y_test.npy\"):\n",
        "      output_file_path = 'drive/MyDrive/FrostHack/data/'+file +\"/\"\n",
        "      for video in os.listdir(output_file_path):\n",
        "        emotion=emotions[video.split(\"-\")[2]]\n",
        "        if(emotion in observed_emotions):\n",
        "          feature=extract_feature('drive/MyDrive/FrostHack/data/'+file +\"/\"+video, mfcc=True, chroma=True, mel=True)\n",
        "          x.append(feature)\n",
        "          y.append(emotion)\n",
        "  return train_test_split(np.array(x), y, test_size=test_size, random_state=9)"
      ]
    },
    {
      "cell_type": "code",
      "execution_count": null,
      "metadata": {
        "id": "upO70QVn735o"
      },
      "outputs": [],
      "source": [
        "#Split the dataset\n",
        "x_train,x_test,y_train,y_test=load_data(test_size=0.25)"
      ]
    },
    {
      "cell_type": "code",
      "execution_count": null,
      "metadata": {
        "id": "GZqjHVj7hb4m"
      },
      "outputs": [],
      "source": [
        "# x_train = np.load(\"drive/MyDrive/FrostHack/data/x_train.npy\")\n",
        "# y_train = np.load(\"drive/MyDrive/FrostHack/data/y_train.npy\")\n",
        "# x_test = np.load(\"drive/MyDrive/FrostHack/data/x_test.npy\")\n",
        "# y_test = np.load(\"drive/MyDrive/FrostHack/data/y_test.npy\")"
      ]
    },
    {
      "cell_type": "code",
      "execution_count": null,
      "metadata": {
        "id": "PRulIhGABnX7"
      },
      "outputs": [],
      "source": [
        "path = 'drive/MyDrive/FrostHack/data/y_test'\n",
        "np.save(path,y_test)"
      ]
    },
    {
      "cell_type": "code",
      "execution_count": null,
      "metadata": {
        "id": "FM1JGXdLELDi"
      },
      "outputs": [],
      "source": [
        "# mlp_gs = MLPClassifier(max_iter=500)\n",
        "# parameter_space = {\n",
        "#     'hidden_layer_sizes': [(100,200,100),(200,300,200)],\n",
        "#     'activation': ['tanh', 'relu'],\n",
        "#     'alpha': [0.0001,0.01, 0.05,0.1],\n",
        "#     'learning_rate': ['constant','adaptive'],\n",
        "#     'batch_size' : [128,256,32],\n",
        "# }\n",
        "# from sklearn.model_selection import GridSearchCV\n",
        "# clf = GridSearchCV(mlp_gs, parameter_space, n_jobs=-1, cv=5)\n",
        "# clf.fit(x_train, y_train)"
      ]
    },
    {
      "cell_type": "code",
      "execution_count": null,
      "metadata": {
        "id": "aXC80ecoEfst"
      },
      "outputs": [],
      "source": [
        "# clf.best_params_"
      ]
    },
    {
      "cell_type": "code",
      "execution_count": null,
      "metadata": {
        "id": "sdDKZ_xH78h1"
      },
      "outputs": [],
      "source": [
        "# Initialize the Multi Layer Perceptron Classifier\n",
        "model=MLPClassifier(alpha=0.000001 ,batch_size= 32,activation= 'relu',epsilon=1e-08, hidden_layer_sizes=(500, 500, 500), learning_rate='adaptive', max_iter=500)"
      ]
    },
    {
      "cell_type": "code",
      "execution_count": null,
      "metadata": {
        "id": "kMMeo1HXEmXk"
      },
      "outputs": [],
      "source": [
        "# Initialize the Multi Layer Perceptron Classifier\n",
        "# model=MLPClassifier(alpha=0.0001, batch_size=256, epsilon=1e-08, hidden_layer_sizes=(1000,), learning_rate='constant', max_iter=500)"
      ]
    },
    {
      "cell_type": "code",
      "execution_count": null,
      "metadata": {
        "colab": {
          "base_uri": "https://localhost:8080/"
        },
        "id": "Y_x_LpOH9vWM",
        "outputId": "7ae8600e-3c4f-42aa-c0cc-fa967bd71736"
      },
      "outputs": [
        {
          "data": {
            "text/plain": [
              "MLPClassifier(alpha=1e-06, batch_size=32, hidden_layer_sizes=(500, 500, 500),\n",
              "              learning_rate='adaptive', max_iter=500)"
            ]
          },
          "execution_count": 36,
          "metadata": {},
          "output_type": "execute_result"
        }
      ],
      "source": [
        "model.fit(x_train,y_train)"
      ]
    },
    {
      "cell_type": "code",
      "execution_count": null,
      "metadata": {
        "id": "7kUwbnto9v0b"
      },
      "outputs": [],
      "source": [
        "y_pred=model.predict(x_test)"
      ]
    },
    {
      "cell_type": "code",
      "execution_count": null,
      "metadata": {
        "colab": {
          "base_uri": "https://localhost:8080/"
        },
        "id": "ccQnU2XYDhZj",
        "outputId": "0c5b4d38-6ee6-47c6-a89c-b8702b8dc651"
      },
      "outputs": [
        {
          "data": {
            "text/plain": [
              "array(['happy', 'angry', 'sad', 'happy', 'sad', 'happy', 'angry', 'sad',\n",
              "       'neutral', 'sad', 'sad', 'sad', 'happy', 'neutral', 'happy',\n",
              "       'angry', 'angry', 'neutral', 'neutral', 'happy', 'sad', 'angry',\n",
              "       'happy', 'sad', 'sad', 'angry', 'sad', 'sad', 'happy', 'sad',\n",
              "       'sad', 'angry', 'angry', 'angry', 'angry', 'sad', 'sad', 'sad',\n",
              "       'neutral', 'happy', 'sad', 'sad', 'sad', 'happy', 'sad', 'angry',\n",
              "       'sad', 'sad', 'neutral', 'sad', 'happy', 'sad', 'angry', 'neutral',\n",
              "       'sad', 'angry', 'sad', 'sad', 'sad', 'angry', 'angry', 'angry',\n",
              "       'neutral', 'happy', 'happy', 'happy', 'happy', 'angry', 'angry',\n",
              "       'happy', 'angry', 'angry', 'sad', 'angry', 'sad', 'angry', 'happy',\n",
              "       'angry', 'angry', 'happy', 'angry', 'angry', 'angry', 'sad', 'sad',\n",
              "       'happy', 'angry', 'sad', 'happy', 'happy', 'angry', 'happy',\n",
              "       'happy', 'angry', 'angry', 'neutral', 'sad', 'happy', 'happy',\n",
              "       'angry', 'happy', 'sad', 'angry', 'happy', 'happy', 'neutral',\n",
              "       'sad', 'happy', 'happy', 'angry', 'sad', 'sad', 'happy', 'happy',\n",
              "       'happy', 'neutral', 'neutral', 'angry', 'sad', 'sad', 'sad',\n",
              "       'happy', 'happy', 'sad', 'angry', 'sad', 'sad', 'happy', 'neutral',\n",
              "       'happy', 'sad', 'happy', 'sad', 'angry', 'happy', 'angry', 'sad',\n",
              "       'sad', 'sad', 'happy', 'sad', 'angry', 'sad', 'happy', 'happy',\n",
              "       'angry', 'sad', 'sad', 'sad', 'angry', 'sad', 'angry', 'happy',\n",
              "       'neutral', 'sad', 'sad', 'angry', 'angry', 'happy', 'sad', 'happy',\n",
              "       'happy', 'sad', 'sad', 'sad', 'sad', 'happy', 'sad'], dtype='<U7')"
            ]
          },
          "execution_count": 40,
          "metadata": {},
          "output_type": "execute_result"
        }
      ],
      "source": [
        "y_pred"
      ]
    },
    {
      "cell_type": "code",
      "execution_count": null,
      "metadata": {
        "colab": {
          "base_uri": "https://localhost:8080/"
        },
        "id": "P-jPEKgp90s0",
        "outputId": "eda3d69b-2d21-4a63-819c-bea1a6d7f37a"
      },
      "outputs": [],
      "source": [
        "#Calculate the accuracy of our model\n",
        "accuracy=accuracy_score(y_true=y_test, y_pred=y_pred)\n",
        "\n",
        "#Print the accuracy\n",
        "print(\"Accuracy: {:.2f}%\".format(accuracy*100))"
      ]
    },
    {
      "cell_type": "code",
      "execution_count": null,
      "metadata": {
        "id": "_p5VAGSB-5on"
      },
      "outputs": [],
      "source": [
        "filename = 'model.sav'\n",
        "pickle.dump(model, open(filename, 'wb'))"
      ]
    }
  ],
  "metadata": {
    "colab": {
      "collapsed_sections": [],
      "name": "Copy of speak.ipynb",
      "provenance": []
    },
    "kernelspec": {
      "display_name": "Python 3",
      "name": "python3"
    },
    "language_info": {
      "name": "python"
    }
  },
  "nbformat": 4,
  "nbformat_minor": 0
}
